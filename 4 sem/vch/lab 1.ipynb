{
 "cells": [
  {
   "cell_type": "code",
   "execution_count": 8,
   "id": "f80fb36a",
   "metadata": {},
   "outputs": [
    {
     "name": "stdout",
     "output_type": "stream",
     "text": [
      "1075 : 5e-324\n",
      "1076 :  0.0\n"
     ]
    }
   ],
   "source": [
    "#поиск машинного нуля\n",
    "n=100\n",
    "p=2.0**(-n)\n",
    "while p!=0:\n",
    "    n=n+1\n",
    "    p=2.0**(-n)\n",
    "print(n-1, f\": {2.0**(-n+1)}\")\n",
    "print(n,\": \",p)\n"
   ]
  },
  {
   "cell_type": "markdown",
   "id": "6f7e7c5b",
   "metadata": {},
   "source": [
    "вывод: у данного эвм порог машинного нуля составляет 2^(-1075)"
   ]
  },
  {
   "cell_type": "code",
   "execution_count": 9,
   "id": "974427eb",
   "metadata": {},
   "outputs": [
    {
     "name": "stdout",
     "output_type": "stream",
     "text": [
      "52 :  2.220446049250313e-16\n"
     ]
    }
   ],
   "source": [
    "#поиск относительной погрешности\n",
    "n=10\n",
    "eps=2.0**(-n)\n",
    "while 1+eps>1:\n",
    "    n+=1\n",
    "    eps/=2\n",
    "n-=1\n",
    "eps*=2\n",
    "print(n,\": \",eps)"
   ]
  },
  {
   "cell_type": "markdown",
   "id": "f9fc51a2",
   "metadata": {},
   "source": [
    "вывод: относительная погрешность данного эвм составляет 2^(-52)"
   ]
  },
  {
   "cell_type": "code",
   "execution_count": 10,
   "id": "7171e748",
   "metadata": {},
   "outputs": [
    {
     "name": "stdout",
     "output_type": "stream",
     "text": [
      "вычисление ещё возможно\n",
      "1023 : 8.98846567431158e+307\n",
      "вычисление уже невозможно\n",
      "1024 : ошибка\n"
     ]
    }
   ],
   "source": [
    "#поиск машинной бесконечности\n",
    "n=100\n",
    "p=2.0**(n)\n",
    "try: \n",
    " while True:\n",
    "    n+=1\n",
    "    p=2.0**(n)\n",
    "except OverflowError:\n",
    "    print(\"вычисление ещё возможно\")\n",
    "    print(n-1,f\": {2.0**(n-1)}\")\n",
    "    print(\"вычисление уже невозможно\")\n",
    "    print(n,\": ошибка\")"
   ]
  },
  {
   "cell_type": "markdown",
   "id": "b59e8aef",
   "metadata": {},
   "source": [
    "вывод: у данного эвм порог машинной бесконечности составляет 2^1023"
   ]
  },
  {
   "cell_type": "code",
   "execution_count": 11,
   "id": "9b73cd31",
   "metadata": {},
   "outputs": [
    {
     "name": "stdout",
     "output_type": "stream",
     "text": [
      "4.0 : 16.0,2.0\n"
     ]
    }
   ],
   "source": [
    "import math\n",
    "def f(t):\n",
    "  return x*x\n",
    "def y(x):\n",
    "  return math.sqrt(x)\n",
    "x=4.0\n",
    "print(x,f\": {f(x)},{y(x)}\")"
   ]
  },
  {
   "cell_type": "code",
   "execution_count": 19,
   "id": "6d497514",
   "metadata": {},
   "outputs": [
    {
     "name": "stdout",
     "output_type": "stream",
     "text": [
      "6 : 3.402823669209385e+38\n"
     ]
    }
   ],
   "source": [
    "import math\n",
    "def F(x):\n",
    "  return x*x\n",
    "def f(x,n):\n",
    "    s=x\n",
    "    for i in range(n+1):\n",
    "     s=F(s)\n",
    "    return s\n",
    "x=4.0;\n",
    "n=5\n",
    "print(n+1,f\": {f(x,n)}\")"
   ]
  },
  {
   "cell_type": "markdown",
   "id": "8dc06331",
   "metadata": {},
   "source": [
    "Задача 1.\n",
    "Осуществить рекурсивное вычисление значения заданной функции f(x) и возврат к исходному \n",
    "значению x, используя рекурсивное вычисление обратной функции. Вычислить разность \n",
    "полученного значения и исходной величины x. Определить количество верных цифр в \n",
    "значении, полученном рекурсивным вычислением обратной функции."
   ]
  },
  {
   "cell_type": "code",
   "execution_count": 4,
   "id": "5c5d7524",
   "metadata": {},
   "outputs": [
    {
     "name": "stdout",
     "output_type": "stream",
     "text": [
      "s1:  1.73205080756826\n",
      "s2:  0.6999727878809431\n",
      "delt:  2.721211905687415e-05\n",
      "количество верных цифр у результата равно 4\n"
     ]
    }
   ],
   "source": [
    "#мой вариант(15)\n",
    "#1 задание\n",
    "import math\n",
    "def F(x):\n",
    "  return (3*x)**(1.0/3.0)\n",
    "def G(x):\n",
    "    return x**(3)/3.0\n",
    "def f(x,n):\n",
    "    s=x\n",
    "    for i in range(n+1):\n",
    "     s=F(s)\n",
    "    return s\n",
    "def g(x,n):\n",
    "    s=x\n",
    "    for i in range(n+1):\n",
    "     s=G(s)\n",
    "    return s\n",
    "def col(x,delt):\n",
    "    s=x\n",
    "    k=0\n",
    "    while s>=1:\n",
    "        s/=10\n",
    "        k+=1\n",
    "    s=10**(k-1)\n",
    "    k=0\n",
    "    while s>delt:\n",
    "      s/=10\n",
    "      k+=1\n",
    "    return k\n",
    "        \n",
    "x=0.7;\n",
    "n=25\n",
    "#s1 - это вычесленное в цикле по i от 0 до N следующее значение величины s как значение функции\n",
    "#от предыдущего значения\n",
    "s1=f(x,n);\n",
    "#s2– это полученное в следствии рекурсии от s1 приближенное значение, а delt – его погрешность\n",
    "s2=g(s1,n);\n",
    "delt=abs(x-s2)\n",
    "print(\"s1: \",s1)\n",
    "print(\"s2: \",s2)\n",
    "print(\"delt: \",delt)\n",
    "print(\"количество верных цифр у результата равно\",f\"{col(s2,delt)}\")"
   ]
  },
  {
   "cell_type": "markdown",
   "id": "aa474028",
   "metadata": {},
   "source": [
    "Задача 2.\n",
    "Используя алгоритм выполнения Задачи 1, для каждого значения глубины рекурсии N от 10 до \n",
    "80 определить количество верных цифр в полученном приближенном значении исходной \n",
    "величины. Объяснить полученные результаты.\n"
   ]
  },
  {
   "cell_type": "markdown",
   "id": "0c5d82a5",
   "metadata": {},
   "source": [
    "Вывод: чем больше мы берем глубину рекурсии, тем меньше становится точность получаемого результата. Например, начиная с глубины n=40 количество верных знаков становится равным 0, значение s1 и delt перестает меняться."
   ]
  },
  {
   "cell_type": "code",
   "execution_count": 32,
   "id": "3d86fef1",
   "metadata": {},
   "outputs": [
    {
     "name": "stdout",
     "output_type": "stream",
     "text": [
      "x= 0.7\n",
      "N / s2 / delt / кол-во верных цифр\n",
      "10   0.6999999999983727   1.627253887193092e-12   11\n",
      "20   0.7000003224332624   3.224332624229831e-07   6\n",
      "30   0.6967615199937839   0.0032384800062160712   2\n",
      "40   0.0   0.7   0\n",
      "50   0.0   0.7   0\n",
      "60   0.0   0.7   0\n",
      "70   0.0   0.7   0\n",
      "80   0.0   0.7   0\n",
      "90   0.0   0.7   0\n"
     ]
    }
   ],
   "source": [
    "#2 задание\n",
    "import math\n",
    "def F(x):\n",
    "  return (3*x)**(1.0/3.0)\n",
    "def G(x):\n",
    "    return x**(3)/3.0\n",
    "def f(x,n):\n",
    "    s=x\n",
    "    for i in range(n+1):\n",
    "     s=F(s)\n",
    "    return s\n",
    "def g(x,n):\n",
    "    s=x\n",
    "    for i in range(n+1):\n",
    "     s=G(s)\n",
    "    return s \n",
    "def col(x,delt):\n",
    "    s=x\n",
    "    k=0\n",
    "    while s>=1:\n",
    "        s/=10\n",
    "        k+=1\n",
    "    if(k>0):\n",
    "     s=10**(k-1)\n",
    "    else:\n",
    "     i=0;\n",
    "     s=x;\n",
    "     if(s!=0):\n",
    "       while s<1:\n",
    "        s*=10\n",
    "        i=1+i\n",
    "       s=10**(-i)\n",
    "     else:\n",
    "        k=0;\n",
    "        return k\n",
    "    k=0\n",
    "    while s>delt:  \n",
    "       s/=10\n",
    "       k+=1\n",
    "    return k\n",
    "def auto(x):\n",
    "    for t in range(10,100,10):\n",
    "        s1=f(x,t);\n",
    "        s2=g(s1,t);\n",
    "        delt=abs(x-s2)\n",
    "        print(t,\" \",s2,\" \",delt,\" \",f\"{col(s2,delt)}\")\n",
    "    return\n",
    "x=0.7\n",
    "print(\"x=\",x)\n",
    "print(\"N / s2 / delt / кол-во верных цифр\")\n",
    "auto(x)"
   ]
  }
 ],
 "metadata": {
  "kernelspec": {
   "display_name": "Python 3 (ipykernel)",
   "language": "python",
   "name": "python3"
  },
  "language_info": {
   "codemirror_mode": {
    "name": "ipython",
    "version": 3
   },
   "file_extension": ".py",
   "mimetype": "text/x-python",
   "name": "python",
   "nbconvert_exporter": "python",
   "pygments_lexer": "ipython3",
   "version": "3.9.13"
  }
 },
 "nbformat": 4,
 "nbformat_minor": 5
}
